{
 "cells": [
  {
   "cell_type": "markdown",
   "metadata": {
    "id": "NcvpVGy6dSPl"
   },
   "source": [
    "## XGBoost"
   ]
  },
  {
   "cell_type": "code",
   "execution_count": null,
   "metadata": {
    "id": "Ky0jpH3BuvNr"
   },
   "outputs": [],
   "source": [
    "import pandas as pd\n",
    "from datetime import datetime\n",
    "from sklearn.metrics import f1_score\n",
    "from sklearn.metrics import recall_score\n",
    "from sklearn.metrics import roc_auc_score\n",
    "from sklearn.metrics import accuracy_score\n",
    "from sklearn.metrics import precision_score\n",
    "from sklearn.metrics import classification_report, roc_auc_score,f1_score\n",
    "from sklearn.metrics import accuracy_score, precision_score, recall_score, confusion_matrix, precision_recall_curve"
   ]
  },
  {
   "cell_type": "code",
   "execution_count": null,
   "metadata": {
    "colab": {
     "base_uri": "https://localhost:8080/",
     "height": 488
    },
    "id": "kEYLKVOXw7G4",
    "outputId": "a6511503-8dd4-463e-a72b-23823dc07a61"
   },
   "outputs": [],
   "source": [
    "# load the dataset\n",
    "Train = pd.read_csv(\"MergedData.csv\")\n",
    "Train # show some sample data"
   ]
  },
  {
   "cell_type": "code",
   "execution_count": null,
   "metadata": {
    "colab": {
     "base_uri": "https://localhost:8080/"
    },
    "id": "Na2I476JQCqe",
    "outputId": "cb6add48-e26d-4873-f9cd-909aed83f4d1"
   },
   "outputs": [],
   "source": [
    "Train['subcategory'].value_counts(dropna=False)"
   ]
  },
  {
   "cell_type": "code",
   "execution_count": null,
   "metadata": {
    "id": "gnP4nRMxJyHd"
   },
   "outputs": [],
   "source": [
    "# convert attack types from labels to integers\n",
    "Train['subcategory'].replace({\n",
    "    'Normal': 0,\n",
    "    'DDH': 1,\n",
    "    'DDP': 2,\n",
    "    'DDT': 3,\n",
    "    'DH': 4, \n",
    "    'DP': 5, \n",
    "    'DT': 6, \n",
    "    'Data_Exfiltration': 7, \n",
    "    'Keylogging': 8, \n",
    "    'OS_Fingerprint': 9, \n",
    "    'Service_Scan': 10\n",
    "}, inplace=True)"
   ]
  },
  {
   "cell_type": "code",
   "execution_count": null,
   "metadata": {
    "id": "RBDTnuHUQC-H"
   },
   "outputs": [],
   "source": [
    "# split the dataset for training and testing\n",
    "from sklearn.model_selection import train_test_split\n",
    "X = Train.drop('subcategory', axis = 1)\n",
    "Y = Train.subcategory\n",
    "xtrain, xtest, ytrain, ytest = train_test_split(X, Y, test_size = 0.20, random_state = 0)"
   ]
  },
  {
   "cell_type": "code",
   "execution_count": null,
   "metadata": {
    "id": "FF50qkF3QDDL"
   },
   "outputs": [],
   "source": [
    "# apply MinMax Scaler\n",
    "from sklearn.preprocessing import MinMaxScaler\n",
    "ma = MinMaxScaler()\n",
    "ma.fit(xtrain)\n",
    "xtrain = ma.transform(xtrain)\n",
    "xtest = ma.transform(xtest)"
   ]
  },
  {
   "cell_type": "code",
   "execution_count": null,
   "metadata": {
    "colab": {
     "base_uri": "https://localhost:8080/"
    },
    "id": "Ti-rkkeLkWuY",
    "outputId": "655f7ef6-1f6c-4a48-da28-c7c4a1c18f70"
   },
   "outputs": [],
   "source": [
    "# import XGBoost\n",
    "from xgboost import XGBClassifier\n",
    "models = XGBClassifier()"
   ]
  },
  {
   "cell_type": "code",
   "execution_count": null,
   "metadata": {
    "colab": {
     "background_save": true,
     "base_uri": "https://localhost:8080/"
    },
    "id": "z-3IzQGpQDH7",
    "outputId": "87311cb3-208a-44db-ae92-4b0179bf968f"
   },
   "outputs": [],
   "source": [
    "# training\n",
    "start_time = datetime.now()\n",
    "models.fit(xtrain,ytrain)\n",
    "end_time = datetime.now()\n",
    "print('Duration: {}'.format(end_time - start_time))"
   ]
  },
  {
   "cell_type": "code",
   "execution_count": null,
   "metadata": {
    "colab": {
     "background_save": true
    },
    "id": "DYQip49uQDOq",
    "outputId": "2980058e-0684-4ae4-ab9d-9c7939f1ff91"
   },
   "outputs": [],
   "source": [
    "# testing\n",
    "start_time = datetime.now()\n",
    "xgbpred = models.predict(xtest)\n",
    "xgbpred_proba = models.predict_proba(xtest)\n",
    "end_time = datetime.now()\n",
    "print('Duration: {}'.format(end_time - start_time))"
   ]
  },
  {
   "cell_type": "code",
   "execution_count": null,
   "metadata": {
    "id": "o3diUlYGQDaL"
   },
   "outputs": [],
   "source": [
    "# evaluation\n",
    "print(confusion_matrix(ytest, xgbpred))\n",
    "print(classification_report(digits=4,y_true=ytest,y_pred=xgbpred))"
   ]
  }
 ],
 "metadata": {
  "colab": {
   "collapsed_sections": [],
   "provenance": []
  },
  "kernelspec": {
   "display_name": "Python 3 (ipykernel)",
   "language": "python",
   "name": "python3"
  },
  "language_info": {
   "codemirror_mode": {
    "name": "ipython",
    "version": 3
   },
   "file_extension": ".py",
   "mimetype": "text/x-python",
   "name": "python",
   "nbconvert_exporter": "python",
   "pygments_lexer": "ipython3",
   "version": "3.8.13"
  }
 },
 "nbformat": 4,
 "nbformat_minor": 1
}
