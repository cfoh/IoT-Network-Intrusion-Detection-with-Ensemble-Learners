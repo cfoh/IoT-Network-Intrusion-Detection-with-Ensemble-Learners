{
 "cells": [
  {
   "cell_type": "markdown",
   "metadata": {
    "id": "NcvpVGy6dSPl"
   },
   "source": [
    "## CatBoost"
   ]
  },
  {
   "cell_type": "code",
   "execution_count": null,
   "metadata": {
    "id": "Ky0jpH3BuvNr"
   },
   "outputs": [],
   "source": [
    "import pandas as pd\n",
    "from datetime import datetime\n",
    "from sklearn.metrics import f1_score\n",
    "from sklearn.metrics import recall_score\n",
    "from sklearn.metrics import roc_auc_score\n",
    "from sklearn.metrics import accuracy_score\n",
    "from sklearn.metrics import precision_score\n",
    "from sklearn.metrics import classification_report, roc_auc_score,f1_score\n",
    "from sklearn.metrics import accuracy_score, precision_score, recall_score, confusion_matrix, precision_recall_curve"
   ]
  },
  {
   "cell_type": "code",
   "execution_count": null,
   "metadata": {
    "colab": {
     "base_uri": "https://localhost:8080/",
     "height": 488
    },
    "id": "kEYLKVOXw7G4",
    "outputId": "bbdeaca0-dfe5-4cbb-f129-220a58f2eb5d"
   },
   "outputs": [],
   "source": [
    "# load the dataset\n",
    "Train = pd.read_csv(\"MergedData.csv\")\n",
    "Train # show some sample data"
   ]
  },
  {
   "cell_type": "code",
   "execution_count": null,
   "metadata": {
    "colab": {
     "base_uri": "https://localhost:8080/"
    },
    "id": "Na2I476JQCqe",
    "outputId": "7ca761e0-538e-4840-a23c-4daa6e4d06c5"
   },
   "outputs": [],
   "source": [
    "Train['subcategory'].value_counts(dropna=False)"
   ]
  },
  {
   "cell_type": "code",
   "execution_count": null,
   "metadata": {
    "id": "gnP4nRMxJyHd"
   },
   "outputs": [],
   "source": [
    "# convert attack types from labels to integers\n",
    "Train['subcategory'].replace({\n",
    "    'Normal': 0,\n",
    "    'DDH': 1,\n",
    "    'DDP': 2,\n",
    "    'DDT': 3,\n",
    "    'DH': 4, \n",
    "    'DP': 5, \n",
    "    'DT': 6, \n",
    "    'Data_Exfiltration': 7, \n",
    "    'Keylogging': 8, \n",
    "    'OS_Fingerprint': 9, \n",
    "    'Service_Scan': 10\n",
    "}, inplace=True)"
   ]
  },
  {
   "cell_type": "code",
   "execution_count": null,
   "metadata": {
    "id": "RBDTnuHUQC-H"
   },
   "outputs": [],
   "source": [
    "# split the dataset for training and testing\n",
    "from sklearn.model_selection import train_test_split\n",
    "X = Train.drop('subcategory', axis = 1)\n",
    "Y = Train.subcategory\n",
    "xtrain, xtest, ytrain, ytest = train_test_split(X, Y, test_size = 0.20, random_state = 0)"
   ]
  },
  {
   "cell_type": "code",
   "execution_count": null,
   "metadata": {
    "id": "FF50qkF3QDDL"
   },
   "outputs": [],
   "source": [
    "# apply MinMax Scaler\n",
    "from sklearn.preprocessing import MinMaxScaler\n",
    "ma = MinMaxScaler()\n",
    "ma.fit(xtrain)\n",
    "xtrain = ma.transform(xtrain)\n",
    "xtest = ma.transform(xtest)"
   ]
  },
  {
   "cell_type": "code",
   "execution_count": null,
   "metadata": {
    "id": "Ti-rkkeLkWuY"
   },
   "outputs": [],
   "source": [
    "# import CatBoost\n",
    "import catboost as ctb\n",
    "dt = ctb.CatBoostClassifier(iterations=20)"
   ]
  },
  {
   "cell_type": "code",
   "execution_count": null,
   "metadata": {
    "colab": {
     "base_uri": "https://localhost:8080/"
    },
    "id": "z-3IzQGpQDH7",
    "outputId": "c72997bf-7f52-4f86-db6b-7bdb76bfd9b1"
   },
   "outputs": [],
   "source": [
    "# training\n",
    "start_time = datetime.now()\n",
    "dt.fit(xtrain, ytrain)\n",
    "end_time = datetime.now()\n",
    "print('Duration: {}'.format(end_time - start_time))"
   ]
  },
  {
   "cell_type": "code",
   "execution_count": null,
   "metadata": {
    "colab": {
     "base_uri": "https://localhost:8080/"
    },
    "id": "DYQip49uQDOq",
    "outputId": "d941e87c-3eb2-4a4f-cc0f-3f782015e975"
   },
   "outputs": [],
   "source": [
    "# testing\n",
    "start_time = datetime.now()\n",
    "dtpred = dt.predict(xtest)\n",
    "dtpred_proba = dt.predict_proba(xtest)\n",
    "end_time = datetime.now()\n",
    "print('Duration: {}'.format(end_time - start_time))"
   ]
  },
  {
   "cell_type": "code",
   "execution_count": null,
   "metadata": {
    "colab": {
     "base_uri": "https://localhost:8080/"
    },
    "id": "YeRdcoqUGXKD",
    "outputId": "945caf50-425b-4580-8be9-142e0ac69556"
   },
   "outputs": [],
   "source": [
    "# evaluation\n",
    "print(confusion_matrix(ytest, dtpred))\n",
    "sk_report = classification_report(digits=4,y_true=ytest,y_pred=dt.predict(xtest))\n",
    "print(sk_report)\n",
    "print(\"Accuracy: %.7f%%\" % (dt.score(xtest, ytest)*100.0))"
   ]
  }
 ],
 "metadata": {
  "colab": {
   "collapsed_sections": [],
   "provenance": []
  },
  "kernelspec": {
   "display_name": "Python 3 (ipykernel)",
   "language": "python",
   "name": "python3"
  },
  "language_info": {
   "codemirror_mode": {
    "name": "ipython",
    "version": 3
   },
   "file_extension": ".py",
   "mimetype": "text/x-python",
   "name": "python",
   "nbconvert_exporter": "python",
   "pygments_lexer": "ipython3",
   "version": "3.8.13"
  }
 },
 "nbformat": 4,
 "nbformat_minor": 1
}
