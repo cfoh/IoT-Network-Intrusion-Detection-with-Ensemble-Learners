{
 "cells": [
  {
   "cell_type": "markdown",
   "metadata": {
    "id": "NcvpVGy6dSPl"
   },
   "source": [
    "## LightGBM"
   ]
  },
  {
   "cell_type": "code",
   "execution_count": null,
   "metadata": {
    "id": "Ky0jpH3BuvNr"
   },
   "outputs": [],
   "source": [
    "import pandas as pd\n",
    "from datetime import datetime\n",
    "from sklearn.metrics import f1_score\n",
    "from sklearn.metrics import recall_score\n",
    "from sklearn.metrics import roc_auc_score\n",
    "from sklearn.metrics import accuracy_score\n",
    "from sklearn.metrics import precision_score\n",
    "from sklearn.metrics import classification_report, roc_auc_score,f1_score\n",
    "from sklearn.metrics import accuracy_score, precision_score, recall_score, confusion_matrix, precision_recall_curve"
   ]
  },
  {
   "cell_type": "code",
   "execution_count": null,
   "metadata": {
    "colab": {
     "base_uri": "https://localhost:8080/",
     "height": 488
    },
    "id": "kEYLKVOXw7G4",
    "outputId": "5e133377-df69-4351-a307-e2bb73babae6"
   },
   "outputs": [],
   "source": [
    "# load the dataset\n",
    "Train = pd.read_csv(\"MergedData.csv\")\n",
    "Train # show some sample data"
   ]
  },
  {
   "cell_type": "code",
   "execution_count": null,
   "metadata": {
    "colab": {
     "base_uri": "https://localhost:8080/"
    },
    "id": "Na2I476JQCqe",
    "outputId": "adc97dfc-cced-4c55-8d09-fac6b6fa862e"
   },
   "outputs": [],
   "source": [
    "Train['subcategory'].value_counts(dropna=False)"
   ]
  },
  {
   "cell_type": "code",
   "execution_count": null,
   "metadata": {
    "id": "gnP4nRMxJyHd"
   },
   "outputs": [],
   "source": [
    "# convert attack types from labels to integers\n",
    "Train['subcategory'].replace({\n",
    "    'Normal': 0,\n",
    "    'DDH': 1,\n",
    "    'DDP': 2,\n",
    "    'DDT': 3,\n",
    "    'DH': 4, \n",
    "    'DP': 5, \n",
    "    'DT': 6, \n",
    "    'Data_Exfiltration': 7, \n",
    "    'Keylogging': 8, \n",
    "    'OS_Fingerprint': 9, \n",
    "    'Service_Scan': 10\n",
    "}, inplace=True)"
   ]
  },
  {
   "cell_type": "code",
   "execution_count": null,
   "metadata": {
    "id": "YAXdgUKYQCzw"
   },
   "outputs": [],
   "source": [
    "Train.isnull().values.sum() # detect missing values, should return 0"
   ]
  },
  {
   "cell_type": "code",
   "execution_count": null,
   "metadata": {
    "id": "RBDTnuHUQC-H"
   },
   "outputs": [],
   "source": [
    "# split the dataset for training and testing\n",
    "from sklearn.model_selection import train_test_split\n",
    "X = Train.drop('subcategory', axis = 1)\n",
    "Y = Train.subcategory\n",
    "xtrain, xtest, ytrain, ytest = train_test_split(X, Y, test_size = 0.20, random_state = 0)"
   ]
  },
  {
   "cell_type": "code",
   "execution_count": null,
   "metadata": {
    "id": "FF50qkF3QDDL"
   },
   "outputs": [],
   "source": [
    "# apply MinMax Scaler\n",
    "from sklearn.preprocessing import MinMaxScaler\n",
    "ma = MinMaxScaler()\n",
    "ma.fit(xtrain)\n",
    "xtrain = ma.transform(xtrain)\n",
    "xtest = ma.transform(xtest)"
   ]
  },
  {
   "cell_type": "code",
   "execution_count": null,
   "metadata": {},
   "outputs": [],
   "source": [
    "# import LightGBM\n",
    "import lightgbm as lgb\n",
    "from sklearn.tree import DecisionTreeClassifier\n",
    "dt = lgb.LGBMClassifier(learning_rate=0.09,max_depth=-5,random_state=42)"
   ]
  },
  {
   "cell_type": "code",
   "execution_count": null,
   "metadata": {
    "colab": {
     "base_uri": "https://localhost:8080/"
    },
    "id": "z-3IzQGpQDH7",
    "outputId": "14375d5d-9172-4774-db34-a71fd0998470"
   },
   "outputs": [],
   "source": [
    "# training\n",
    "start_time = datetime.now()\n",
    "dt.fit(xtrain,ytrain,eval_set=[(xtest,ytest),(xtrain,ytrain)],eval_metric='logloss')\n",
    "end_time = datetime.now()\n",
    "print('Duration: {}'.format(end_time - start_time))"
   ]
  },
  {
   "cell_type": "code",
   "execution_count": null,
   "metadata": {
    "colab": {
     "base_uri": "https://localhost:8080/"
    },
    "id": "DYQip49uQDOq",
    "outputId": "f585a7c0-a6a3-4c39-855f-625735e85b5b"
   },
   "outputs": [],
   "source": [
    "# testing\n",
    "start_time = datetime.now()\n",
    "pred_dt = dt.predict(xtest)\n",
    "dtpred_proba = dt.predict_proba(xtest)\n",
    "end_time = datetime.now()\n",
    "print('Duration: {}'.format(end_time - start_time))"
   ]
  },
  {
   "cell_type": "code",
   "execution_count": null,
   "metadata": {
    "colab": {
     "base_uri": "https://localhost:8080/"
    },
    "id": "o3diUlYGQDaL",
    "outputId": "7c9ae9a6-173d-43ec-e35e-561080a29c5c"
   },
   "outputs": [],
   "source": [
    "# evaluation\n",
    "print(confusion_matrix(ytest, pred_dt))\n",
    "print(classification_report(ytest,dt.predict(xtest)))"
   ]
  }
 ],
 "metadata": {
  "colab": {
   "collapsed_sections": [],
   "provenance": []
  },
  "kernelspec": {
   "display_name": "Python 3 (ipykernel)",
   "language": "python",
   "name": "python3"
  },
  "language_info": {
   "codemirror_mode": {
    "name": "ipython",
    "version": 3
   },
   "file_extension": ".py",
   "mimetype": "text/x-python",
   "name": "python",
   "nbconvert_exporter": "python",
   "pygments_lexer": "ipython3",
   "version": "3.8.13"
  }
 },
 "nbformat": 4,
 "nbformat_minor": 1
}
