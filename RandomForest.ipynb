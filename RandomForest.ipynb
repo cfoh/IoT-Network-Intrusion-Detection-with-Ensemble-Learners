{
 "cells": [
  {
   "cell_type": "markdown",
   "metadata": {},
   "source": [
    "## Random Forest"
   ]
  },
  {
   "cell_type": "code",
   "execution_count": null,
   "metadata": {},
   "outputs": [],
   "source": [
    "import pandas as pd\n",
    "from datetime import datetime\n",
    "from sklearn.metrics import f1_score\n",
    "from sklearn.metrics import recall_score\n",
    "from sklearn.metrics import roc_auc_score\n",
    "from sklearn.metrics import accuracy_score\n",
    "from sklearn.metrics import precision_score\n",
    "from sklearn.metrics import classification_report, roc_auc_score,f1_score\n",
    "from sklearn.metrics import accuracy_score, precision_score, recall_score, confusion_matrix, precision_recall_curve"
   ]
  },
  {
   "cell_type": "code",
   "execution_count": null,
   "metadata": {},
   "outputs": [],
   "source": [
    "# load the dataset\n",
    "Train = pd.read_csv(\"MergedData.csv\", dtype={'proto_number': 'int'})\n",
    "Train # show some sample data"
   ]
  },
  {
   "cell_type": "code",
   "execution_count": null,
   "metadata": {},
   "outputs": [],
   "source": [
    "Train['subcategory'].value_counts(dropna=False)"
   ]
  },
  {
   "cell_type": "code",
   "execution_count": null,
   "metadata": {},
   "outputs": [],
   "source": [
    "# convert attack types from labels to integers\n",
    "Train['subcategory'].replace({\n",
    "    'Normal': 0,\n",
    "    'DDH': 1,\n",
    "    'DDP': 2,\n",
    "    'DDT': 3,\n",
    "    'DH': 4, \n",
    "    'DP': 5, \n",
    "    'DT': 6, \n",
    "    'Data_Exfiltration': 7, \n",
    "    'Keylogging': 8, \n",
    "    'OS_Fingerprint': 9, \n",
    "    'Service_Scan': 10\n",
    "}, inplace=True)"
   ]
  },
  {
   "cell_type": "code",
   "execution_count": null,
   "metadata": {},
   "outputs": [],
   "source": [
    "Train.isnull().values.sum() # detect missing values, should return 0"
   ]
  },
  {
   "cell_type": "code",
   "execution_count": null,
   "metadata": {},
   "outputs": [],
   "source": [
    "# split the dataset for training and testing\n",
    "from sklearn.model_selection import train_test_split\n",
    "X = Train.drop('subcategory', axis = 1)\n",
    "Y = Train.subcategory \n",
    "xtrain, xtest, ytrain, ytest = train_test_split(X, Y, test_size = 0.20, random_state = 10)"
   ]
  },
  {
   "cell_type": "code",
   "execution_count": null,
   "metadata": {},
   "outputs": [],
   "source": [
    "# apply MinMax Scaler\n",
    "from sklearn.preprocessing import MinMaxScaler\n",
    "ma = MinMaxScaler()\n",
    "ma.fit(xtrain)\n",
    "xtrain = ma.transform(xtrain)\n",
    "xtest = ma.transform(xtest)"
   ]
  },
  {
   "cell_type": "code",
   "execution_count": null,
   "metadata": {},
   "outputs": [],
   "source": [
    "# import Random Forest\n",
    "from sklearn.ensemble import RandomForestClassifier\n",
    "RF = RandomForestClassifier(max_depth=3,min_samples_leaf=2)"
   ]
  },
  {
   "cell_type": "code",
   "execution_count": null,
   "metadata": {},
   "outputs": [],
   "source": [
    "# training\n",
    "start_time = datetime.now()\n",
    "model_RF = RF.fit(xtrain, ytrain) \n",
    "end_time = datetime.now()\n",
    "print('Duration: {}'.format(end_time - start_time))"
   ]
  },
  {
   "cell_type": "code",
   "execution_count": null,
   "metadata": {},
   "outputs": [],
   "source": [
    "# testing\n",
    "start_time = datetime.now()\n",
    "pred_RF = model_RF.predict(xtest)\n",
    "RFpred_proba = model_RF.predict_proba(xtest)\n",
    "end_time = datetime.now()\n",
    "print('Duration: {}'.format(end_time - start_time))"
   ]
  },
  {
   "cell_type": "code",
   "execution_count": null,
   "metadata": {
    "scrolled": true
   },
   "outputs": [],
   "source": [
    "# evaluation\n",
    "print(confusion_matrix(ytest, pred_RF))\n",
    "print(classification_report(digits=4, y_true=ytest, y_pred=model_RF.predict(xtest)))"
   ]
  }
 ],
 "metadata": {
  "kernelspec": {
   "display_name": "Python 3 (ipykernel)",
   "language": "python",
   "name": "python3"
  },
  "language_info": {
   "codemirror_mode": {
    "name": "ipython",
    "version": 3
   },
   "file_extension": ".py",
   "mimetype": "text/x-python",
   "name": "python",
   "nbconvert_exporter": "python",
   "pygments_lexer": "ipython3",
   "version": "3.8.13"
  }
 },
 "nbformat": 4,
 "nbformat_minor": 4
}
